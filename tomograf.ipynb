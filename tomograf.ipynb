{
 "cells": [
  {
   "cell_type": "code",
   "execution_count": 17,
   "metadata": {
    "slideshow": {
     "slide_type": "slide"
    }
   },
   "outputs": [
    {
     "data": {
      "application/vnd.jupyter.widget-view+json": {
       "model_id": "165762c25d6d46ed8ee8dac59d8897a8",
       "version_major": 2,
       "version_minor": 0
      },
      "text/plain": [
       "interactive(children=(Text(value='/Users/fortek/Downloads/tomograf-zdjecia/Kropka.jpg', description='image_pat…"
      ]
     },
     "metadata": {},
     "output_type": "display_data"
    },
    {
     "data": {
      "text/plain": [
       "<function __main__.main(image_path: str, detector_count: int, spread: int, step: int)>"
      ]
     },
     "execution_count": 17,
     "metadata": {},
     "output_type": "execute_result"
    }
   ],
   "source": [
    "from PIL import Image\n",
    "import numpy as np\n",
    "\n",
    "def load_image(path: str):\n",
    "    try:\n",
    "        return np.asarray(Image.open(path).convert('L'))\n",
    "    except:\n",
    "        print('Error loading image')\n",
    "\n",
    "from line_calculator import BresenhamLineCalculator\n",
    "from source_detector_pair_generator import SourceDetectorPairGenerator\n",
    "import numpy as np\n",
    "from ipywidgets import interact, interactive, fixed, interact_manual\n",
    "import ipywidgets as widgets\n",
    "import matplotlib.pyplot as plt\n",
    "\n",
    "def radon_transform(source_detector_pair_generator, iterations, image):\n",
    "    sinogram = []\n",
    "    for i in range(iterations):\n",
    "        iteration_result = []\n",
    "        for pair in source_detector_pair_generator.generate(i):\n",
    "            detector_result = 0\n",
    "            for pixel in BresenhamLineCalculator.calculate_between(pair.source, pair.detector):\n",
    "                detector_result += image[pixel.x - 1][pixel.y - 1]\n",
    "            detector_result /= 255\n",
    "            iteration_result.append(detector_result)\n",
    "        sinogram.append(iteration_result)\n",
    "    return sinogram\n",
    "\n",
    "\n",
    "def ramp_filter(ffts):\n",
    "    ffts = np.asarray(ffts)\n",
    "    ramp = np.floor(np.arange(0.5, ffts.shape[1]//2 + 0.1, 0.5))\n",
    "    return ffts * ramp\n",
    "\n",
    "def reverse_radon_transform(image_height, spread, sinogram):\n",
    "    image = np.zeros((image_height, image_height))\n",
    "    source_detector_pair_generator = SourceDetectorPairGenerator(\n",
    "        image_height,\n",
    "        len(sinogram[0]),\n",
    "        spread,\n",
    "        360//len(sinogram)\n",
    "    )\n",
    "    \n",
    "    for i in range(len(sinogram) - 1):\n",
    "        for pair_index, pair in enumerate(source_detector_pair_generator.generate(i)):\n",
    "            for pixel in BresenhamLineCalculator.calculate_between(pair.source, pair.detector):\n",
    "                image[pixel.x - 1][pixel.y - 1] += sinogram[i][pair_index] / 255\n",
    "    \n",
    "    return image\n",
    "            \n",
    "    \n",
    "\n",
    "def main(image_path: str, detector_count: int, spread: int, step: int):\n",
    "    image = load_image(image_path)\n",
    "    diameter = len(image) if len(image) <= len(image[0]) else len(image[0])\n",
    "    \n",
    "    plt.figure()\n",
    "    plt.imshow(image, cmap='gray')\n",
    "    \n",
    "    iterations = 360 // step\n",
    "    source_detector_pair_generator = SourceDetectorPairGenerator(diameter, detector_count, spread, step)\n",
    "    sinogram = radon_transform(source_detector_pair_generator, iterations, image)\n",
    "    \n",
    "    plt.figure()\n",
    "    plt.imshow(sinogram, cmap='gray')\n",
    "\n",
    "    result = reverse_radon_transform(diameter, spread, sinogram)\n",
    "    \n",
    "    plt.figure()\n",
    "    plt.imshow(result, cmap='gray')\n",
    "\n",
    "\n",
    "interact(\n",
    "    main,\n",
    "    image_path='/Users/fortek/Downloads/tomograf-zdjecia/Kropka.jpg',\n",
    "    detector_count=widgets.IntSlider(min=0, max=300, step=1, value=180, continuous_update=False),\n",
    "    spread=widgets.IntSlider(min=0, max=180, step=1, value=80, continuous_update=False),\n",
    "    step=widgets.IntSlider(min=1, max=360, step=1, value=4, continuous_update=False)\n",
    ")"
   ]
  },
  {
   "cell_type": "code",
   "execution_count": null,
   "metadata": {
    "slideshow": {
     "slide_type": "slide"
    }
   },
   "outputs": [],
   "source": []
  }
 ],
 "metadata": {
  "kernelspec": {
   "display_name": "Python 3 (ipykernel)",
   "language": "python",
   "name": "python3"
  },
  "language_info": {
   "codemirror_mode": {
    "name": "ipython",
    "version": 3
   },
   "file_extension": ".py",
   "mimetype": "text/x-python",
   "name": "python",
   "nbconvert_exporter": "python",
   "pygments_lexer": "ipython3",
   "version": "3.8.9"
  }
 },
 "nbformat": 4,
 "nbformat_minor": 1
}